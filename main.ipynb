{
 "cells": [
  {
   "cell_type": "markdown",
   "metadata": {},
   "source": [
    "通用设置\n",
    "--gpu_ids：指定使用的 GPU 编号，例如 '0' 表示使用编号为 0 的 GPU，'0,1,2' 表示使用编号为 0、1、2 的 GPU。\n",
    "--name：输出模型的名称，用于标识训练的模型。\n",
    "--resume：是否使用之前保存的模型继续训练。\n",
    "数据相关\n",
    "--data_dir：训练数据的目录路径。\n",
    "--extra_Google：是否使用额外的 Google 噪声数据。\n",
    "--train_all：是否使用所有的训练数据。\n",
    "--color_jitter：是否在训练中使用颜色抖动（一种数据增强方法）。\n",
    "--batchsize：每次训练的批量大小。\n",
    "--pad：图像的填充大小。\n",
    "--h：图像的高度。\n",
    "--w：图像的宽度。\n",
    "--views：视图的数量。\n",
    "--erasing_p：随机擦除的概率，范围在 [0,1] 之间。\n",
    "--DA：是否使用颜色数据增强。\n",
    "网络架构相关\n",
    "--share：是否在不同视图之间共享权重。\n",
    "--droprate：丢弃率，用于防止过拟合。\n",
    "--pool：池化方式，默认是 'avg'（平均池化）。\n",
    "--stride：步长。\n",
    "--use_dense：是否使用 DenseNet121 网络。\n",
    "--use_NAS：是否使用 NAS（神经架构搜索）。\n",
    "优化器相关\n",
    "--warm_epoch：需要预热的前 K 个 epoch 数量。\n",
    "--lr：学习率。\n",
    "--moving_avg：移动平均值。\n",
    "--fp16：是否使用 float16 而不是 float32，这可以节省大约 50% 的内存。\n",
    "损失函数相关\n",
    "--arcface：是否使用 ArcFace 损失函数。\n",
    "--circle：是否使用 Circle 损失函数。\n",
    "--cosface：是否使用 CosFace 损失函数。\n",
    "--contrast：是否使用对比损失函数。\n",
    "--triplet：是否使用三元组损失函数。\n",
    "--lifted：是否使用 Lifted 损失函数。\n",
    "--sphere：是否使用 Sphere 损失函数。\n",
    "--loss_merge：是否将不同视角的损失合并计算。"
   ]
  },
  {
   "cell_type": "markdown",
   "metadata": {},
   "source": [
    "<!-- 1 -->\n",
    "cd /home/ubuntu-user/Desktop/Wenjun/code\n",
    "python train.py --name twj1 --fp16 --extra_Google --DA --color_jitter --circle --cosface --contrast --loss_merge --share\n",
    "\n",
    "python test.py --name twj1 \n",
    "\n",
    "python test_ACM.py --name twj1"
   ]
  },
  {
   "cell_type": "markdown",
   "metadata": {},
   "source": [
    "<!-- best -->\n",
    "cd /home/ubuntu-user/Desktop/Wenjun/code\n",
    "python train.py --name twj2 --fp16 --extra_Google --DA --color_jitter --circle --cosface --contrast --loss_merge --share --use_vgg16 \n",
    "\n",
    "python test.py --name twj2 \n",
    "\n",
    "python test_ACM.py --name twj2 "
   ]
  }
 ],
 "metadata": {
  "kernelspec": {
   "display_name": "Python 3",
   "language": "python",
   "name": "python3"
  },
  "language_info": {
   "codemirror_mode": {
    "name": "ipython",
    "version": 3
   },
   "file_extension": ".py",
   "mimetype": "text/x-python",
   "name": "python",
   "nbconvert_exporter": "python",
   "pygments_lexer": "ipython3",
   "version": "3.12.9"
  }
 },
 "nbformat": 4,
 "nbformat_minor": 2
}
